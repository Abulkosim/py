{
  "cells": [
    {
      "cell_type": "code",
      "execution_count": null,
      "id": "80cf5500-3058-4e99-a89c-0c4a71ebb7e7",
      "metadata": {
        "trusted": true
      },
      "outputs": [],
      "source": [
        "import math\n",
        "import numpy as np\n",
        "import matplotlib.pyplot as plt\n",
        "%matplotlib inline"
      ]
    },
    {
      "cell_type": "code",
      "execution_count": null,
      "id": "632c4039-d5ac-4b3b-9be4-825b02bb801c",
      "metadata": {
        "trusted": true
      },
      "outputs": [],
      "source": [
        "def f(x):\n",
        "    return 3*x**2 - 4*x + 5\n"
      ]
    },
    {
      "cell_type": "code",
      "execution_count": null,
      "id": "f1d41f99-8638-463b-9931-5bdbbb0887b5",
      "metadata": {
        "trusted": true
      },
      "outputs": [],
      "source": [
        "f(3)"
      ]
    },
    {
      "cell_type": "code",
      "execution_count": null,
      "id": "b07dbde7-2906-48a6-a17b-15b6968bbcd4",
      "metadata": {
        "trusted": true
      },
      "outputs": [],
      "source": [
        "xs = np.arange(-5, 5, 0.25)\n",
        "ys = f(xs)\n",
        "plt.plot(xs, ys)"
      ]
    },
    {
      "cell_type": "code",
      "execution_count": null,
      "id": "3226ca09-9ded-4bd4-8422-e502e515df48",
      "metadata": {
        "trusted": true
      },
      "outputs": [],
      "source": [
        "x = 2/3\n",
        "h = 0.0000001\n",
        "(f(x + h) - f(x)) / h"
      ]
    },
    {
      "cell_type": "code",
      "execution_count": null,
      "id": "12c7c927-3106-4537-945d-51574d686e99",
      "metadata": {
        "trusted": true
      },
      "outputs": [],
      "source": [
        "a = 2.0\n",
        "b = -4.0\n",
        "c = 13.0\n",
        "\n",
        "d = a*b + c\n",
        "print(d)\n"
      ]
    },
    {
      "cell_type": "code",
      "execution_count": null,
      "id": "53cc1083-1d0d-48e8-812d-3767acec7b5f",
      "metadata": {
        "trusted": true
      },
      "outputs": [],
      "source": [
        "h = 0.0001\n",
        "\n",
        "a = 2.0\n",
        "b = -4.0\n",
        "c = 13.0\n",
        "\n",
        "d1 = a*b + c\n",
        "b += h\n",
        "d2 = a*b + c\n",
        "\n",
        "print('d1', d1)\n",
        "print('d2', d2)\n",
        "\n",
        "print('slope', (d2 - d1)/h)"
      ]
    },
    {
      "cell_type": "code",
      "execution_count": 21,
      "id": "8a4cb2ff-9c26-4158-ab26-2852bedc1ea5",
      "metadata": {
        "trusted": true
      },
      "outputs": [
        {
          "name": "stdout",
          "output_type": "stream",
          "text": [
            "Value(data=10.0)\n"
          ]
        }
      ],
      "source": [
        "class Value: \n",
        "    def __init__(self, data, _children=(), _op='', label=''): \n",
        "        self.data = data\n",
        "        self.grad = 0.0\n",
        "        self._prev = set(_children)\n",
        "        self._op = _op\n",
        "        self.label = label\n",
        "\n",
        "    def __repr__(self): \n",
        "        return f\"Value(data={self.data})\"\n",
        "\n",
        "    def __add__(self, other): \n",
        "        out = Value(self.data + other.data, (self, other), '+')\n",
        "        return out\n",
        "\n",
        "    def __mul__(self, other): \n",
        "        out = Value(self.data * other.data, (self, other), '*')\n",
        "        return out\n",
        "\n",
        "a = Value(3.0, label='a')\n",
        "b = Value(-2.0, label='b')\n",
        "c = Value(11.0, label='c')\n",
        "e = a*b; e.label = 'e'\n",
        "d = e + c; d.label = 'd'\n",
        "f = Value(2.0, label='f')\n",
        "L = d * f; L.label = 'L'\n",
        "\n",
        "print(L)"
      ]
    },
    {
      "cell_type": "code",
      "execution_count": 22,
      "id": "f9d6a530",
      "metadata": {},
      "outputs": [],
      "source": [
        "from graphviz import Digraph\n",
        "\n",
        "def trace(root):\n",
        "    # builds a set of all nodes and edges in a graph\n",
        "    nodes, edges = set(), set()\n",
        "    def build(v):\n",
        "        if v not in nodes:\n",
        "            nodes.add(v)\n",
        "            for child in v._prev:\n",
        "                edges.add((child, v))\n",
        "                build(child)\n",
        "    build(root)\n",
        "    return nodes, edges\n",
        "\n",
        "def draw_dot(root):\n",
        "    dot = Digraph(format='svg', graph_attr={'rankdir': 'LR'})  # LR = left to right\n",
        "\n",
        "    nodes, edges = trace(root)\n",
        "    for n in nodes:\n",
        "        uid = str(id(n))\n",
        "        # for any value in the graph, create a rectangular ('record') node for it\n",
        "        dot.node(name=uid, label = \"{ %s | data %.4f | grad %.4f }\" % (n.label, n.data, n.grad), shape='record')\n",
        "        if n._op:\n",
        "            # if this value is a result of some operation, create an op node for it\n",
        "            dot.node(name = uid + n._op, label = n._op)\n",
        "            # and connect this node to it\n",
        "            dot.edge(uid + n._op, uid)\n",
        "\n",
        "    for n1, n2 in edges:\n",
        "        # connect n1 to the op node of n2\n",
        "        dot.edge(str(id(n1)), str(id(n2)) + n2._op)\n",
        "\n",
        "    return dot\n"
      ]
    },
    {
      "cell_type": "code",
      "execution_count": 23,
      "id": "9114acb8",
      "metadata": {},
      "outputs": [
        {
          "data": {
            "image/svg+xml": [
              "<?xml version=\"1.0\" encoding=\"UTF-8\" standalone=\"no\"?>\n",
              "<!DOCTYPE svg PUBLIC \"-//W3C//DTD SVG 1.1//EN\"\n",
              " \"http://www.w3.org/Graphics/SVG/1.1/DTD/svg11.dtd\">\n",
              "<!-- Generated by graphviz version 13.1.0 (20250701.0955)\n",
              " -->\n",
              "<!-- Pages: 1 -->\n",
              "<svg width=\"1140pt\" height=\"128pt\"\n",
              " viewBox=\"0.00 0.00 1140.00 128.00\" xmlns=\"http://www.w3.org/2000/svg\" xmlns:xlink=\"http://www.w3.org/1999/xlink\">\n",
              "<g id=\"graph0\" class=\"graph\" transform=\"scale(1 1) rotate(0) translate(4 124)\">\n",
              "<polygon fill=\"white\" stroke=\"none\" points=\"-4,4 -4,-124 1135.75,-124 1135.75,4 -4,4\"/>\n",
              "<!-- 5031774800 -->\n",
              "<g id=\"node1\" class=\"node\">\n",
              "<title>5031774800</title>\n",
              "<polygon fill=\"none\" stroke=\"black\" points=\"314.25,-83.5 314.25,-119.5 504,-119.5 504,-83.5 314.25,-83.5\"/>\n",
              "<text xml:space=\"preserve\" text-anchor=\"middle\" x=\"325.25\" y=\"-96.7\" font-family=\"Times,serif\" font-size=\"14.00\">c</text>\n",
              "<polyline fill=\"none\" stroke=\"black\" points=\"336.25,-84 336.25,-119.5\"/>\n",
              "<text xml:space=\"preserve\" text-anchor=\"middle\" x=\"379.5\" y=\"-96.7\" font-family=\"Times,serif\" font-size=\"14.00\">data 11.0000</text>\n",
              "<polyline fill=\"none\" stroke=\"black\" points=\"422.75,-84 422.75,-119.5\"/>\n",
              "<text xml:space=\"preserve\" text-anchor=\"middle\" x=\"463.38\" y=\"-96.7\" font-family=\"Times,serif\" font-size=\"14.00\">grad 0.0000</text>\n",
              "</g>\n",
              "<!-- 5022956768+ -->\n",
              "<g id=\"node6\" class=\"node\">\n",
              "<title>5022956768+</title>\n",
              "<ellipse fill=\"none\" stroke=\"black\" cx=\"567\" cy=\"-73.5\" rx=\"27\" ry=\"18\"/>\n",
              "<text xml:space=\"preserve\" text-anchor=\"middle\" x=\"567\" y=\"-68.45\" font-family=\"Times,serif\" font-size=\"14.00\">+</text>\n",
              "</g>\n",
              "<!-- 5031774800&#45;&gt;5022956768+ -->\n",
              "<g id=\"edge9\" class=\"edge\">\n",
              "<title>5031774800&#45;&gt;5022956768+</title>\n",
              "<path fill=\"none\" stroke=\"black\" d=\"M504.39,-84.57C513.16,-82.99 521.65,-81.47 529.37,-80.08\"/>\n",
              "<polygon fill=\"black\" stroke=\"black\" points=\"529.73,-83.57 538.95,-78.36 528.49,-76.68 529.73,-83.57\"/>\n",
              "</g>\n",
              "<!-- 5022956160 -->\n",
              "<g id=\"node2\" class=\"node\">\n",
              "<title>5022956160</title>\n",
              "<polygon fill=\"none\" stroke=\"black\" points=\"315.38,-28.5 315.38,-64.5 502.88,-64.5 502.88,-28.5 315.38,-28.5\"/>\n",
              "<text xml:space=\"preserve\" text-anchor=\"middle\" x=\"326.38\" y=\"-41.7\" font-family=\"Times,serif\" font-size=\"14.00\">e</text>\n",
              "<polyline fill=\"none\" stroke=\"black\" points=\"337.38,-29 337.38,-64.5\"/>\n",
              "<text xml:space=\"preserve\" text-anchor=\"middle\" x=\"379.5\" y=\"-41.7\" font-family=\"Times,serif\" font-size=\"14.00\">data &#45;6.0000</text>\n",
              "<polyline fill=\"none\" stroke=\"black\" points=\"421.62,-29 421.62,-64.5\"/>\n",
              "<text xml:space=\"preserve\" text-anchor=\"middle\" x=\"462.25\" y=\"-41.7\" font-family=\"Times,serif\" font-size=\"14.00\">grad 0.0000</text>\n",
              "</g>\n",
              "<!-- 5022956160&#45;&gt;5022956768+ -->\n",
              "<g id=\"edge8\" class=\"edge\">\n",
              "<title>5022956160&#45;&gt;5022956768+</title>\n",
              "<path fill=\"none\" stroke=\"black\" d=\"M503.05,-62.6C512.25,-64.19 521.16,-65.73 529.24,-67.13\"/>\n",
              "<polygon fill=\"black\" stroke=\"black\" points=\"528.48,-70.55 538.93,-68.81 529.68,-63.66 528.48,-70.55\"/>\n",
              "</g>\n",
              "<!-- 5022956160* -->\n",
              "<g id=\"node3\" class=\"node\">\n",
              "<title>5022956160*</title>\n",
              "<ellipse fill=\"none\" stroke=\"black\" cx=\"251.25\" cy=\"-46.5\" rx=\"27\" ry=\"18\"/>\n",
              "<text xml:space=\"preserve\" text-anchor=\"middle\" x=\"251.25\" y=\"-41.45\" font-family=\"Times,serif\" font-size=\"14.00\">*</text>\n",
              "</g>\n",
              "<!-- 5022956160*&#45;&gt;5022956160 -->\n",
              "<g id=\"edge1\" class=\"edge\">\n",
              "<title>5022956160*&#45;&gt;5022956160</title>\n",
              "<path fill=\"none\" stroke=\"black\" d=\"M278.69,-46.5C286.1,-46.5 294.64,-46.5 303.71,-46.5\"/>\n",
              "<polygon fill=\"black\" stroke=\"black\" points=\"303.51,-50 313.51,-46.5 303.51,-43 303.51,-50\"/>\n",
              "</g>\n",
              "<!-- 5022840016 -->\n",
              "<g id=\"node4\" class=\"node\">\n",
              "<title>5022840016</title>\n",
              "<polygon fill=\"none\" stroke=\"black\" points=\"2.62,-56.5 2.62,-92.5 185.62,-92.5 185.62,-56.5 2.62,-56.5\"/>\n",
              "<text xml:space=\"preserve\" text-anchor=\"middle\" x=\"13.62\" y=\"-69.7\" font-family=\"Times,serif\" font-size=\"14.00\">a</text>\n",
              "<polyline fill=\"none\" stroke=\"black\" points=\"24.62,-57 24.62,-92.5\"/>\n",
              "<text xml:space=\"preserve\" text-anchor=\"middle\" x=\"64.5\" y=\"-69.7\" font-family=\"Times,serif\" font-size=\"14.00\">data 3.0000</text>\n",
              "<polyline fill=\"none\" stroke=\"black\" points=\"104.38,-57 104.38,-92.5\"/>\n",
              "<text xml:space=\"preserve\" text-anchor=\"middle\" x=\"145\" y=\"-69.7\" font-family=\"Times,serif\" font-size=\"14.00\">grad 0.0000</text>\n",
              "</g>\n",
              "<!-- 5022840016&#45;&gt;5022956160* -->\n",
              "<g id=\"edge5\" class=\"edge\">\n",
              "<title>5022840016&#45;&gt;5022956160*</title>\n",
              "<path fill=\"none\" stroke=\"black\" d=\"M185.81,-58.13C195.66,-56.35 205.21,-54.63 213.82,-53.08\"/>\n",
              "<polygon fill=\"black\" stroke=\"black\" points=\"214.19,-56.57 223.41,-51.34 212.95,-49.68 214.19,-56.57\"/>\n",
              "</g>\n",
              "<!-- 5022956768 -->\n",
              "<g id=\"node5\" class=\"node\">\n",
              "<title>5022956768</title>\n",
              "<polygon fill=\"none\" stroke=\"black\" points=\"630,-55.5 630,-91.5 813.75,-91.5 813.75,-55.5 630,-55.5\"/>\n",
              "<text xml:space=\"preserve\" text-anchor=\"middle\" x=\"641.38\" y=\"-68.7\" font-family=\"Times,serif\" font-size=\"14.00\">d</text>\n",
              "<polyline fill=\"none\" stroke=\"black\" points=\"652.75,-56 652.75,-91.5\"/>\n",
              "<text xml:space=\"preserve\" text-anchor=\"middle\" x=\"692.62\" y=\"-68.7\" font-family=\"Times,serif\" font-size=\"14.00\">data 5.0000</text>\n",
              "<polyline fill=\"none\" stroke=\"black\" points=\"732.5,-56 732.5,-91.5\"/>\n",
              "<text xml:space=\"preserve\" text-anchor=\"middle\" x=\"773.12\" y=\"-68.7\" font-family=\"Times,serif\" font-size=\"14.00\">grad 0.0000</text>\n",
              "</g>\n",
              "<!-- 5023534896* -->\n",
              "<g id=\"node9\" class=\"node\">\n",
              "<title>5023534896*</title>\n",
              "<ellipse fill=\"none\" stroke=\"black\" cx=\"876.75\" cy=\"-45.5\" rx=\"27\" ry=\"18\"/>\n",
              "<text xml:space=\"preserve\" text-anchor=\"middle\" x=\"876.75\" y=\"-40.45\" font-family=\"Times,serif\" font-size=\"14.00\">*</text>\n",
              "</g>\n",
              "<!-- 5022956768&#45;&gt;5023534896* -->\n",
              "<g id=\"edge7\" class=\"edge\">\n",
              "<title>5022956768&#45;&gt;5023534896*</title>\n",
              "<path fill=\"none\" stroke=\"black\" d=\"M814.01,-56.81C822.84,-55.19 831.4,-53.62 839.19,-52.2\"/>\n",
              "<polygon fill=\"black\" stroke=\"black\" points=\"839.67,-55.67 848.88,-50.42 838.41,-48.78 839.67,-55.67\"/>\n",
              "</g>\n",
              "<!-- 5022956768+&#45;&gt;5022956768 -->\n",
              "<g id=\"edge2\" class=\"edge\">\n",
              "<title>5022956768+&#45;&gt;5022956768</title>\n",
              "<path fill=\"none\" stroke=\"black\" d=\"M594.28,-73.5C601.42,-73.5 609.61,-73.5 618.32,-73.5\"/>\n",
              "<polygon fill=\"black\" stroke=\"black\" points=\"618.06,-77 628.06,-73.5 618.06,-70 618.06,-77\"/>\n",
              "</g>\n",
              "<!-- 5023558416 -->\n",
              "<g id=\"node7\" class=\"node\">\n",
              "<title>5023558416</title>\n",
              "<polygon fill=\"none\" stroke=\"black\" points=\"631.12,-0.5 631.12,-36.5 812.62,-36.5 812.62,-0.5 631.12,-0.5\"/>\n",
              "<text xml:space=\"preserve\" text-anchor=\"middle\" x=\"641.38\" y=\"-13.7\" font-family=\"Times,serif\" font-size=\"14.00\">f</text>\n",
              "<polyline fill=\"none\" stroke=\"black\" points=\"651.62,-1 651.62,-36.5\"/>\n",
              "<text xml:space=\"preserve\" text-anchor=\"middle\" x=\"691.5\" y=\"-13.7\" font-family=\"Times,serif\" font-size=\"14.00\">data 2.0000</text>\n",
              "<polyline fill=\"none\" stroke=\"black\" points=\"731.38,-1 731.38,-36.5\"/>\n",
              "<text xml:space=\"preserve\" text-anchor=\"middle\" x=\"772\" y=\"-13.7\" font-family=\"Times,serif\" font-size=\"14.00\">grad 0.0000</text>\n",
              "</g>\n",
              "<!-- 5023558416&#45;&gt;5023534896* -->\n",
              "<g id=\"edge4\" class=\"edge\">\n",
              "<title>5023558416&#45;&gt;5023534896*</title>\n",
              "<path fill=\"none\" stroke=\"black\" d=\"M812.69,-34.36C821.94,-36 830.93,-37.58 839.08,-39.02\"/>\n",
              "<polygon fill=\"black\" stroke=\"black\" points=\"838.41,-42.46 848.87,-40.75 839.63,-35.57 838.41,-42.46\"/>\n",
              "</g>\n",
              "<!-- 5023534896 -->\n",
              "<g id=\"node8\" class=\"node\">\n",
              "<title>5023534896</title>\n",
              "<polygon fill=\"none\" stroke=\"black\" points=\"939.75,-27.5 939.75,-63.5 1131.75,-63.5 1131.75,-27.5 939.75,-27.5\"/>\n",
              "<text xml:space=\"preserve\" text-anchor=\"middle\" x=\"951.88\" y=\"-40.7\" font-family=\"Times,serif\" font-size=\"14.00\">L</text>\n",
              "<polyline fill=\"none\" stroke=\"black\" points=\"964,-28 964,-63.5\"/>\n",
              "<text xml:space=\"preserve\" text-anchor=\"middle\" x=\"1007.25\" y=\"-40.7\" font-family=\"Times,serif\" font-size=\"14.00\">data 10.0000</text>\n",
              "<polyline fill=\"none\" stroke=\"black\" points=\"1050.5,-28 1050.5,-63.5\"/>\n",
              "<text xml:space=\"preserve\" text-anchor=\"middle\" x=\"1091.12\" y=\"-40.7\" font-family=\"Times,serif\" font-size=\"14.00\">grad 0.0000</text>\n",
              "</g>\n",
              "<!-- 5023534896*&#45;&gt;5023534896 -->\n",
              "<g id=\"edge3\" class=\"edge\">\n",
              "<title>5023534896*&#45;&gt;5023534896</title>\n",
              "<path fill=\"none\" stroke=\"black\" d=\"M904.03,-45.5C911.15,-45.5 919.32,-45.5 928.02,-45.5\"/>\n",
              "<polygon fill=\"black\" stroke=\"black\" points=\"927.78,-49 937.78,-45.5 927.78,-42 927.78,-49\"/>\n",
              "</g>\n",
              "<!-- 5031776080 -->\n",
              "<g id=\"node10\" class=\"node\">\n",
              "<title>5031776080</title>\n",
              "<polygon fill=\"none\" stroke=\"black\" points=\"0,-1.5 0,-37.5 188.25,-37.5 188.25,-1.5 0,-1.5\"/>\n",
              "<text xml:space=\"preserve\" text-anchor=\"middle\" x=\"11.38\" y=\"-14.7\" font-family=\"Times,serif\" font-size=\"14.00\">b</text>\n",
              "<polyline fill=\"none\" stroke=\"black\" points=\"22.75,-2 22.75,-37.5\"/>\n",
              "<text xml:space=\"preserve\" text-anchor=\"middle\" x=\"64.88\" y=\"-14.7\" font-family=\"Times,serif\" font-size=\"14.00\">data &#45;2.0000</text>\n",
              "<polyline fill=\"none\" stroke=\"black\" points=\"107,-2 107,-37.5\"/>\n",
              "<text xml:space=\"preserve\" text-anchor=\"middle\" x=\"147.62\" y=\"-14.7\" font-family=\"Times,serif\" font-size=\"14.00\">grad 0.0000</text>\n",
              "</g>\n",
              "<!-- 5031776080&#45;&gt;5022956160* -->\n",
              "<g id=\"edge6\" class=\"edge\">\n",
              "<title>5031776080&#45;&gt;5022956160*</title>\n",
              "<path fill=\"none\" stroke=\"black\" d=\"M188.49,-35.75C197.27,-37.28 205.77,-38.76 213.51,-40.1\"/>\n",
              "<polygon fill=\"black\" stroke=\"black\" points=\"212.66,-43.51 223.11,-41.78 213.86,-36.61 212.66,-43.51\"/>\n",
              "</g>\n",
              "</g>\n",
              "</svg>\n"
            ],
            "text/plain": [
              "<graphviz.graphs.Digraph at 0x12b6d67b0>"
            ]
          },
          "execution_count": 23,
          "metadata": {},
          "output_type": "execute_result"
        }
      ],
      "source": [
        "draw_dot(L)"
      ]
    },
    {
      "cell_type": "code",
      "execution_count": null,
      "id": "acb9e0ad",
      "metadata": {},
      "outputs": [],
      "source": []
    }
  ],
  "metadata": {
    "kernelspec": {
      "display_name": ".venv",
      "language": "python",
      "name": "python3"
    },
    "language_info": {
      "codemirror_mode": {
        "name": "ipython",
        "version": 3
      },
      "file_extension": ".py",
      "mimetype": "text/x-python",
      "name": "python",
      "nbconvert_exporter": "python",
      "pygments_lexer": "ipython3",
      "version": "3.13.4"
    }
  },
  "nbformat": 4,
  "nbformat_minor": 5
}
