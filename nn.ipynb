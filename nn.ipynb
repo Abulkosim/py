{
  "cells": [
    {
      "cell_type": "code",
      "execution_count": null,
      "id": "80cf5500-3058-4e99-a89c-0c4a71ebb7e7",
      "metadata": {
        "trusted": true
      },
      "outputs": [],
      "source": [
        "import math\n",
        "import numpy as np\n",
        "import matplotlib.pyplot as plt\n",
        "%matplotlib inline"
      ]
    },
    {
      "cell_type": "code",
      "execution_count": null,
      "id": "632c4039-d5ac-4b3b-9be4-825b02bb801c",
      "metadata": {
        "trusted": true
      },
      "outputs": [],
      "source": [
        "def f(x):\n",
        "    return 3*x**2 - 4*x + 5\n"
      ]
    },
    {
      "cell_type": "code",
      "execution_count": null,
      "id": "f1d41f99-8638-463b-9931-5bdbbb0887b5",
      "metadata": {
        "trusted": true
      },
      "outputs": [],
      "source": [
        "f(3)"
      ]
    },
    {
      "cell_type": "code",
      "execution_count": null,
      "id": "b07dbde7-2906-48a6-a17b-15b6968bbcd4",
      "metadata": {
        "trusted": true
      },
      "outputs": [],
      "source": [
        "xs = np.arange(-5, 5, 0.25)\n",
        "ys = f(xs)\n",
        "plt.plot(xs, ys)"
      ]
    },
    {
      "cell_type": "code",
      "execution_count": null,
      "id": "3226ca09-9ded-4bd4-8422-e502e515df48",
      "metadata": {
        "trusted": true
      },
      "outputs": [],
      "source": [
        "x = 2/3\n",
        "h = 0.0000001\n",
        "(f(x + h) - f(x)) / h"
      ]
    },
    {
      "cell_type": "code",
      "execution_count": null,
      "id": "12c7c927-3106-4537-945d-51574d686e99",
      "metadata": {
        "trusted": true
      },
      "outputs": [],
      "source": [
        "a = 2.0\n",
        "b = -4.0\n",
        "c = 13.0\n",
        "\n",
        "d = a*b + c\n",
        "print(d)\n"
      ]
    },
    {
      "cell_type": "code",
      "execution_count": null,
      "id": "53cc1083-1d0d-48e8-812d-3767acec7b5f",
      "metadata": {
        "trusted": true
      },
      "outputs": [],
      "source": [
        "h = 0.0001\n",
        "\n",
        "a = 2.0\n",
        "b = -4.0\n",
        "c = 13.0\n",
        "\n",
        "d1 = a*b + c\n",
        "b += h\n",
        "d2 = a*b + c\n",
        "\n",
        "print('d1', d1)\n",
        "print('d2', d2)\n",
        "\n",
        "print('slope', (d2 - d1)/h)"
      ]
    },
    {
      "cell_type": "code",
      "execution_count": null,
      "id": "8a4cb2ff-9c26-4158-ab26-2852bedc1ea5",
      "metadata": {
        "trusted": true
      },
      "outputs": [],
      "source": [
        "class Value: \n",
        "    def __init__(self, data, _children=(), _op='', label=''): \n",
        "        self.data = data\n",
        "        self._prev = set(_children)\n",
        "        self._op = _op\n",
        "        self.label = label\n",
        "\n",
        "    def __repr__(self): \n",
        "        return f\"Value(data={self.data})\"\n",
        "\n",
        "    def __add__(self, other): \n",
        "        out = Value(self.data + other.data, (self, other), '+')\n",
        "        return out\n",
        "\n",
        "    def __mul__(self, other): \n",
        "        out = Value(self.data * other.data, (self, other), '*')\n",
        "        return out\n",
        "\n",
        "a = Value(3.0, label='a')\n",
        "b = Value(-2.0, label='b')\n",
        "c = Value(11.0, label='c')\n",
        "e = a*b; e.label = 'e'\n",
        "d = e + c; d.label = 'd'\n",
        "d"
      ]
    },
    {
      "cell_type": "code",
      "execution_count": null,
      "id": "f9d6a530",
      "metadata": {},
      "outputs": [],
      "source": [
        "from graphviz import Digraph\n",
        "\n",
        "def trace(root):\n",
        "    # builds a set of all nodes and edges in a graph\n",
        "    nodes, edges = set(), set()\n",
        "    def build(v):\n",
        "        if v not in nodes:\n",
        "            nodes.add(v)\n",
        "            for child in v._prev:\n",
        "                edges.add((child, v))\n",
        "                build(child)\n",
        "    build(root)\n",
        "    return nodes, edges\n",
        "\n",
        "def draw_dot(root):\n",
        "    dot = Digraph(format='svg', graph_attr={'rankdir': 'LR'})  # LR = left to right\n",
        "\n",
        "    nodes, edges = trace(root)\n",
        "    for n in nodes:\n",
        "        uid = str(id(n))\n",
        "        # for any value in the graph, create a rectangular ('record') node for it\n",
        "        dot.node(name=uid, label = \"{ %s | data %.4f }\" % (n.label, n.data), shape='record')\n",
        "        if n._op:\n",
        "            # if this value is a result of some operation, create an op node for it\n",
        "            dot.node(name = uid + n._op, label = n._op)\n",
        "            # and connect this node to it\n",
        "            dot.edge(uid + n._op, uid)\n",
        "\n",
        "    for n1, n2 in edges:\n",
        "        # connect n1 to the op node of n2\n",
        "        dot.edge(str(id(n1)), str(id(n2)) + n2._op)\n",
        "\n",
        "    return dot\n"
      ]
    },
    {
      "cell_type": "code",
      "execution_count": 17,
      "id": "9114acb8",
      "metadata": {},
      "outputs": [
        {
          "data": {
            "image/svg+xml": [
              "<?xml version=\"1.0\" encoding=\"UTF-8\" standalone=\"no\"?>\n",
              "<!DOCTYPE svg PUBLIC \"-//W3C//DTD SVG 1.1//EN\"\n",
              " \"http://www.w3.org/Graphics/SVG/1.1/DTD/svg11.dtd\">\n",
              "<!-- Generated by graphviz version 13.1.0 (20250701.0955)\n",
              " -->\n",
              "<!-- Pages: 1 -->\n",
              "<svg width=\"578pt\" height=\"127pt\"\n",
              " viewBox=\"0.00 0.00 578.00 127.00\" xmlns=\"http://www.w3.org/2000/svg\" xmlns:xlink=\"http://www.w3.org/1999/xlink\">\n",
              "<g id=\"graph0\" class=\"graph\" transform=\"scale(1 1) rotate(0) translate(4 123)\">\n",
              "<polygon fill=\"white\" stroke=\"none\" points=\"-4,4 -4,-123 574,-123 574,4 -4,4\"/>\n",
              "<!-- 5022948864 -->\n",
              "<g id=\"node1\" class=\"node\">\n",
              "<title>5022948864</title>\n",
              "<polygon fill=\"none\" stroke=\"black\" points=\"467.5,-54.5 467.5,-90.5 570,-90.5 570,-54.5 467.5,-54.5\"/>\n",
              "<text xml:space=\"preserve\" text-anchor=\"middle\" x=\"478.88\" y=\"-67.7\" font-family=\"Times,serif\" font-size=\"14.00\">d</text>\n",
              "<polyline fill=\"none\" stroke=\"black\" points=\"490.25,-55 490.25,-90.5\"/>\n",
              "<text xml:space=\"preserve\" text-anchor=\"middle\" x=\"530.12\" y=\"-67.7\" font-family=\"Times,serif\" font-size=\"14.00\">data 5.0000</text>\n",
              "</g>\n",
              "<!-- 5022948864+ -->\n",
              "<g id=\"node2\" class=\"node\">\n",
              "<title>5022948864+</title>\n",
              "<ellipse fill=\"none\" stroke=\"black\" cx=\"404.5\" cy=\"-72.5\" rx=\"27\" ry=\"18\"/>\n",
              "<text xml:space=\"preserve\" text-anchor=\"middle\" x=\"404.5\" y=\"-67.45\" font-family=\"Times,serif\" font-size=\"14.00\">+</text>\n",
              "</g>\n",
              "<!-- 5022948864+&#45;&gt;5022948864 -->\n",
              "<g id=\"edge1\" class=\"edge\">\n",
              "<title>5022948864+&#45;&gt;5022948864</title>\n",
              "<path fill=\"none\" stroke=\"black\" d=\"M431.82,-72.5C439.21,-72.5 447.57,-72.5 456.1,-72.5\"/>\n",
              "<polygon fill=\"black\" stroke=\"black\" points=\"455.83,-76 465.83,-72.5 455.83,-69 455.83,-76\"/>\n",
              "</g>\n",
              "<!-- 5022964368 -->\n",
              "<g id=\"node3\" class=\"node\">\n",
              "<title>5022964368</title>\n",
              "<polygon fill=\"none\" stroke=\"black\" points=\"233,-82.5 233,-118.5 341.5,-118.5 341.5,-82.5 233,-82.5\"/>\n",
              "<text xml:space=\"preserve\" text-anchor=\"middle\" x=\"244\" y=\"-95.7\" font-family=\"Times,serif\" font-size=\"14.00\">c</text>\n",
              "<polyline fill=\"none\" stroke=\"black\" points=\"255,-83 255,-118.5\"/>\n",
              "<text xml:space=\"preserve\" text-anchor=\"middle\" x=\"298.25\" y=\"-95.7\" font-family=\"Times,serif\" font-size=\"14.00\">data 11.0000</text>\n",
              "</g>\n",
              "<!-- 5022964368&#45;&gt;5022948864+ -->\n",
              "<g id=\"edge6\" class=\"edge\">\n",
              "<title>5022964368&#45;&gt;5022948864+</title>\n",
              "<path fill=\"none\" stroke=\"black\" d=\"M341.83,-87.48C350.54,-85.37 359.37,-83.22 367.53,-81.24\"/>\n",
              "<polygon fill=\"black\" stroke=\"black\" points=\"368.16,-84.69 377.05,-78.93 366.51,-77.89 368.16,-84.69\"/>\n",
              "</g>\n",
              "<!-- 5022965008 -->\n",
              "<g id=\"node4\" class=\"node\">\n",
              "<title>5022965008</title>\n",
              "<polygon fill=\"none\" stroke=\"black\" points=\"0,-55.5 0,-91.5 107,-91.5 107,-55.5 0,-55.5\"/>\n",
              "<text xml:space=\"preserve\" text-anchor=\"middle\" x=\"11.38\" y=\"-68.7\" font-family=\"Times,serif\" font-size=\"14.00\">b</text>\n",
              "<polyline fill=\"none\" stroke=\"black\" points=\"22.75,-56 22.75,-91.5\"/>\n",
              "<text xml:space=\"preserve\" text-anchor=\"middle\" x=\"64.88\" y=\"-68.7\" font-family=\"Times,serif\" font-size=\"14.00\">data &#45;2.0000</text>\n",
              "</g>\n",
              "<!-- 5022948256* -->\n",
              "<g id=\"node7\" class=\"node\">\n",
              "<title>5022948256*</title>\n",
              "<ellipse fill=\"none\" stroke=\"black\" cx=\"170\" cy=\"-45.5\" rx=\"27\" ry=\"18\"/>\n",
              "<text xml:space=\"preserve\" text-anchor=\"middle\" x=\"170\" y=\"-40.45\" font-family=\"Times,serif\" font-size=\"14.00\">*</text>\n",
              "</g>\n",
              "<!-- 5022965008&#45;&gt;5022948256* -->\n",
              "<g id=\"edge5\" class=\"edge\">\n",
              "<title>5022965008&#45;&gt;5022948256*</title>\n",
              "<path fill=\"none\" stroke=\"black\" d=\"M107.39,-60.57C116.15,-58.42 125.05,-56.25 133.26,-54.24\"/>\n",
              "<polygon fill=\"black\" stroke=\"black\" points=\"133.97,-57.67 142.85,-51.89 132.3,-50.87 133.97,-57.67\"/>\n",
              "</g>\n",
              "<!-- 5022834976 -->\n",
              "<g id=\"node5\" class=\"node\">\n",
              "<title>5022834976</title>\n",
              "<polygon fill=\"none\" stroke=\"black\" points=\"2.62,-0.5 2.62,-36.5 104.38,-36.5 104.38,-0.5 2.62,-0.5\"/>\n",
              "<text xml:space=\"preserve\" text-anchor=\"middle\" x=\"13.62\" y=\"-13.7\" font-family=\"Times,serif\" font-size=\"14.00\">a</text>\n",
              "<polyline fill=\"none\" stroke=\"black\" points=\"24.62,-1 24.62,-36.5\"/>\n",
              "<text xml:space=\"preserve\" text-anchor=\"middle\" x=\"64.5\" y=\"-13.7\" font-family=\"Times,serif\" font-size=\"14.00\">data 3.0000</text>\n",
              "</g>\n",
              "<!-- 5022834976&#45;&gt;5022948256* -->\n",
              "<g id=\"edge3\" class=\"edge\">\n",
              "<title>5022834976&#45;&gt;5022948256*</title>\n",
              "<path fill=\"none\" stroke=\"black\" d=\"M104.72,-30.34C114.16,-32.57 123.86,-34.86 132.78,-36.96\"/>\n",
              "<polygon fill=\"black\" stroke=\"black\" points=\"131.94,-40.36 142.48,-39.25 133.55,-33.54 131.94,-40.36\"/>\n",
              "</g>\n",
              "<!-- 5022948256 -->\n",
              "<g id=\"node6\" class=\"node\">\n",
              "<title>5022948256</title>\n",
              "<polygon fill=\"none\" stroke=\"black\" points=\"234.12,-27.5 234.12,-63.5 340.38,-63.5 340.38,-27.5 234.12,-27.5\"/>\n",
              "<text xml:space=\"preserve\" text-anchor=\"middle\" x=\"245.12\" y=\"-40.7\" font-family=\"Times,serif\" font-size=\"14.00\">e</text>\n",
              "<polyline fill=\"none\" stroke=\"black\" points=\"256.12,-28 256.12,-63.5\"/>\n",
              "<text xml:space=\"preserve\" text-anchor=\"middle\" x=\"298.25\" y=\"-40.7\" font-family=\"Times,serif\" font-size=\"14.00\">data &#45;6.0000</text>\n",
              "</g>\n",
              "<!-- 5022948256&#45;&gt;5022948864+ -->\n",
              "<g id=\"edge4\" class=\"edge\">\n",
              "<title>5022948256&#45;&gt;5022948864+</title>\n",
              "<path fill=\"none\" stroke=\"black\" d=\"M340.82,-57.81C349.88,-59.94 359.11,-62.1 367.6,-64.09\"/>\n",
              "<polygon fill=\"black\" stroke=\"black\" points=\"366.63,-67.46 377.16,-66.33 368.22,-60.64 366.63,-67.46\"/>\n",
              "</g>\n",
              "<!-- 5022948256*&#45;&gt;5022948256 -->\n",
              "<g id=\"edge2\" class=\"edge\">\n",
              "<title>5022948256*&#45;&gt;5022948256</title>\n",
              "<path fill=\"none\" stroke=\"black\" d=\"M197.44,-45.5C205.1,-45.5 213.82,-45.5 222.73,-45.5\"/>\n",
              "<polygon fill=\"black\" stroke=\"black\" points=\"222.53,-49 232.53,-45.5 222.53,-42 222.53,-49\"/>\n",
              "</g>\n",
              "</g>\n",
              "</svg>\n"
            ],
            "text/plain": [
              "<graphviz.graphs.Digraph at 0x12b642b10>"
            ]
          },
          "execution_count": 17,
          "metadata": {},
          "output_type": "execute_result"
        }
      ],
      "source": [
        "draw_dot(d)"
      ]
    },
    {
      "cell_type": "code",
      "execution_count": null,
      "id": "acb9e0ad",
      "metadata": {},
      "outputs": [],
      "source": []
    }
  ],
  "metadata": {
    "kernelspec": {
      "display_name": ".venv",
      "language": "python",
      "name": "python3"
    },
    "language_info": {
      "codemirror_mode": {
        "name": "ipython",
        "version": 3
      },
      "file_extension": ".py",
      "mimetype": "text/x-python",
      "name": "python",
      "nbconvert_exporter": "python",
      "pygments_lexer": "ipython3",
      "version": "3.13.4"
    }
  },
  "nbformat": 4,
  "nbformat_minor": 5
}
